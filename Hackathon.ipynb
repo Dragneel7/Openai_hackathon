{
 "cells": [
  {
   "cell_type": "code",
   "execution_count": 222,
   "metadata": {
    "collapsed": true
   },
   "outputs": [],
   "source": [
    "import pandas as pd\n",
    "import numpy as np\n",
    "import matplotlib.pyplot as plt"
   ]
  },
  {
   "cell_type": "code",
   "execution_count": 223,
   "metadata": {
    "collapsed": true
   },
   "outputs": [],
   "source": [
    "student_grades   =   pd.read_csv('hackathon_data/student-mat.csv')\n",
    "student_behavior =   pd.read_csv('hackathon_data/xAPI-Edu-Data.csv')"
   ]
  },
  {
   "cell_type": "code",
   "execution_count": 244,
   "metadata": {},
   "outputs": [
    {
     "name": "stdout",
     "output_type": "stream",
     "text": [
      "395\n"
     ]
    },
    {
     "data": {
      "text/plain": [
       "Index(['school', 'sex', 'age', 'address', 'famsize', 'Pstatus', 'Medu', 'Fedu',\n",
       "       'Mjob', 'Fjob', 'reason', 'guardian', 'traveltime', 'studytime',\n",
       "       'failures', 'schoolsup', 'famsup', 'paid', 'activities', 'nursery',\n",
       "       'higher', 'internet', 'romantic', 'famrel', 'freetime', 'goout', 'Dalc',\n",
       "       'Walc', 'health', 'absences', 'G1', 'G2', 'G3'],\n",
       "      dtype='object')"
      ]
     },
     "execution_count": 244,
     "metadata": {},
     "output_type": "execute_result"
    }
   ],
   "source": [
    "print(len(student_grades))\n",
    "student_grades.columns"
   ]
  },
  {
   "cell_type": "code",
   "execution_count": 245,
   "metadata": {},
   "outputs": [
    {
     "name": "stdout",
     "output_type": "stream",
     "text": [
      "395\n"
     ]
    },
    {
     "data": {
      "text/plain": [
       "Index(['gender', 'NationalITy', 'PlaceofBirth', 'StageID', 'GradeID',\n",
       "       'SectionID', 'Topic', 'Semester', 'Relation', 'raisedhands',\n",
       "       'VisITedResources', 'AnnouncementsView', 'Discussion',\n",
       "       'ParentAnsweringSurvey', 'ParentschoolSatisfaction',\n",
       "       'StudentAbsenceDays', 'Class'],\n",
       "      dtype='object')"
      ]
     },
     "execution_count": 245,
     "metadata": {},
     "output_type": "execute_result"
    }
   ],
   "source": [
    "print(len(student_behavior))\n",
    "student_behavior.columns"
   ]
  },
  {
   "cell_type": "code",
   "execution_count": 246,
   "metadata": {},
   "outputs": [
    {
     "name": "stdout",
     "output_type": "stream",
     "text": [
      "395\n"
     ]
    }
   ],
   "source": [
    "student_behavior = student_behavior[:395]\n",
    "print(len(student_behavior))"
   ]
  },
  {
   "cell_type": "code",
   "execution_count": 247,
   "metadata": {
    "collapsed": true
   },
   "outputs": [],
   "source": [
    "#joining the 2 dataframes \n",
    "data = student_behavior.join(student_grades)"
   ]
  },
  {
   "cell_type": "code",
   "execution_count": 248,
   "metadata": {
    "collapsed": true
   },
   "outputs": [],
   "source": [
    "data['romantic'] = (data['romantic'] == \"yes\")*1\n",
    "\n"
   ]
  },
  {
   "cell_type": "code",
   "execution_count": 249,
   "metadata": {
    "collapsed": true
   },
   "outputs": [],
   "source": [
    "data['internet'] = (data['internet'] == \"yes\")*1"
   ]
  },
  {
   "cell_type": "code",
   "execution_count": 250,
   "metadata": {
    "collapsed": true
   },
   "outputs": [],
   "source": [
    "data['higher'] = (data['higher'] == \"yes\")*1\n"
   ]
  },
  {
   "cell_type": "code",
   "execution_count": 251,
   "metadata": {
    "collapsed": true
   },
   "outputs": [],
   "source": [
    "data['nursery'] = (data['nursery'] == \"yes\")*1\n"
   ]
  },
  {
   "cell_type": "code",
   "execution_count": 252,
   "metadata": {
    "collapsed": true
   },
   "outputs": [],
   "source": [
    "data['activities'] = (data['activities'] == \"yes\")*1\n"
   ]
  },
  {
   "cell_type": "code",
   "execution_count": 253,
   "metadata": {
    "collapsed": true
   },
   "outputs": [],
   "source": [
    "data['paid'] = (data['paid'] == \"yes\")*1"
   ]
  },
  {
   "cell_type": "code",
   "execution_count": 254,
   "metadata": {
    "collapsed": true
   },
   "outputs": [],
   "source": [
    "data['famsup'] = (data['famsup'] == \"yes\")*1"
   ]
  },
  {
   "cell_type": "code",
   "execution_count": 255,
   "metadata": {
    "collapsed": true
   },
   "outputs": [],
   "source": [
    "data['schoolsup'] = (data['schoolsup'] == \"yes\")*1"
   ]
  },
  {
   "cell_type": "code",
   "execution_count": 256,
   "metadata": {
    "collapsed": true
   },
   "outputs": [],
   "source": [
    "data['StudentAbsenceDays'] = (data['StudentAbsenceDays'] == \"Under-7\")*1"
   ]
  },
  {
   "cell_type": "code",
   "execution_count": 257,
   "metadata": {},
   "outputs": [
    {
     "name": "stderr",
     "output_type": "stream",
     "text": [
      "/home/dragneel/.local/lib/python3.5/site-packages/pandas/core/ops.py:798: FutureWarning: elementwise comparison failed; returning scalar instead, but in the future will perform elementwise comparison\n",
      "  result = getattr(x, name)(y)\n"
     ]
    },
    {
     "ename": "TypeError",
     "evalue": "invalid type comparison",
     "output_type": "error",
     "traceback": [
      "\u001b[0;31m---------------------------------------------------------------------------\u001b[0m",
      "\u001b[0;31mTypeError\u001b[0m                                 Traceback (most recent call last)",
      "\u001b[0;32m<ipython-input-257-220d8069f778>\u001b[0m in \u001b[0;36m<module>\u001b[0;34m()\u001b[0m\n\u001b[0;32m----> 1\u001b[0;31m \u001b[0mdata\u001b[0m\u001b[0;34m[\u001b[0m\u001b[0;34m'romantic'\u001b[0m\u001b[0;34m]\u001b[0m \u001b[0;34m=\u001b[0m \u001b[0;34m(\u001b[0m\u001b[0mdata\u001b[0m\u001b[0;34m[\u001b[0m\u001b[0;34m'romantic'\u001b[0m\u001b[0;34m]\u001b[0m \u001b[0;34m==\u001b[0m \u001b[0;34m\"yes\"\u001b[0m\u001b[0;34m)\u001b[0m\u001b[0;34m*\u001b[0m\u001b[0;36m1\u001b[0m\u001b[0;34m\u001b[0m\u001b[0m\n\u001b[0m",
      "\u001b[0;32m~/.local/lib/python3.5/site-packages/pandas/core/ops.py\u001b[0m in \u001b[0;36mwrapper\u001b[0;34m(self, other, axis)\u001b[0m\n\u001b[1;32m    859\u001b[0m \u001b[0;34m\u001b[0m\u001b[0m\n\u001b[1;32m    860\u001b[0m             \u001b[0;32mwith\u001b[0m \u001b[0mnp\u001b[0m\u001b[0;34m.\u001b[0m\u001b[0merrstate\u001b[0m\u001b[0;34m(\u001b[0m\u001b[0mall\u001b[0m\u001b[0;34m=\u001b[0m\u001b[0;34m'ignore'\u001b[0m\u001b[0;34m)\u001b[0m\u001b[0;34m:\u001b[0m\u001b[0;34m\u001b[0m\u001b[0m\n\u001b[0;32m--> 861\u001b[0;31m                 \u001b[0mres\u001b[0m \u001b[0;34m=\u001b[0m \u001b[0mna_op\u001b[0m\u001b[0;34m(\u001b[0m\u001b[0mvalues\u001b[0m\u001b[0;34m,\u001b[0m \u001b[0mother\u001b[0m\u001b[0;34m)\u001b[0m\u001b[0;34m\u001b[0m\u001b[0m\n\u001b[0m\u001b[1;32m    862\u001b[0m             \u001b[0;32mif\u001b[0m \u001b[0mis_scalar\u001b[0m\u001b[0;34m(\u001b[0m\u001b[0mres\u001b[0m\u001b[0;34m)\u001b[0m\u001b[0;34m:\u001b[0m\u001b[0;34m\u001b[0m\u001b[0m\n\u001b[1;32m    863\u001b[0m                 raise TypeError('Could not compare %s type with Series' %\n",
      "\u001b[0;32m~/.local/lib/python3.5/site-packages/pandas/core/ops.py\u001b[0m in \u001b[0;36mna_op\u001b[0;34m(x, y)\u001b[0m\n\u001b[1;32m    798\u001b[0m                     \u001b[0mresult\u001b[0m \u001b[0;34m=\u001b[0m \u001b[0mgetattr\u001b[0m\u001b[0;34m(\u001b[0m\u001b[0mx\u001b[0m\u001b[0;34m,\u001b[0m \u001b[0mname\u001b[0m\u001b[0;34m)\u001b[0m\u001b[0;34m(\u001b[0m\u001b[0my\u001b[0m\u001b[0;34m)\u001b[0m\u001b[0;34m\u001b[0m\u001b[0m\n\u001b[1;32m    799\u001b[0m                 \u001b[0;32mif\u001b[0m \u001b[0mresult\u001b[0m \u001b[0;32mis\u001b[0m \u001b[0mNotImplemented\u001b[0m\u001b[0;34m:\u001b[0m\u001b[0;34m\u001b[0m\u001b[0m\n\u001b[0;32m--> 800\u001b[0;31m                     \u001b[0;32mraise\u001b[0m \u001b[0mTypeError\u001b[0m\u001b[0;34m(\u001b[0m\u001b[0;34m\"invalid type comparison\"\u001b[0m\u001b[0;34m)\u001b[0m\u001b[0;34m\u001b[0m\u001b[0m\n\u001b[0m\u001b[1;32m    801\u001b[0m             \u001b[0;32mexcept\u001b[0m \u001b[0mAttributeError\u001b[0m\u001b[0;34m:\u001b[0m\u001b[0;34m\u001b[0m\u001b[0m\n\u001b[1;32m    802\u001b[0m                 \u001b[0mresult\u001b[0m \u001b[0;34m=\u001b[0m \u001b[0mop\u001b[0m\u001b[0;34m(\u001b[0m\u001b[0mx\u001b[0m\u001b[0;34m,\u001b[0m \u001b[0my\u001b[0m\u001b[0;34m)\u001b[0m\u001b[0;34m\u001b[0m\u001b[0m\n",
      "\u001b[0;31mTypeError\u001b[0m: invalid type comparison"
     ]
    }
   ],
   "source": [
    "data['romantic'] = (data['romantic'] == \"yes\")*1"
   ]
  },
  {
   "cell_type": "code",
   "execution_count": 258,
   "metadata": {
    "collapsed": true
   },
   "outputs": [],
   "source": [
    "data['famsize'] = (data['famsize'] == \"GT3\")*0\n"
   ]
  },
  {
   "cell_type": "code",
   "execution_count": 259,
   "metadata": {},
   "outputs": [
    {
     "data": {
      "text/plain": [
       "Index(['gender', 'NationalITy', 'PlaceofBirth', 'StageID', 'GradeID',\n",
       "       'SectionID', 'Topic', 'Semester', 'Relation', 'raisedhands',\n",
       "       'VisITedResources', 'AnnouncementsView', 'Discussion',\n",
       "       'ParentAnsweringSurvey', 'ParentschoolSatisfaction',\n",
       "       'StudentAbsenceDays', 'Class', 'school', 'sex', 'age', 'address',\n",
       "       'famsize', 'Pstatus', 'Medu', 'Fedu', 'Mjob', 'Fjob', 'reason',\n",
       "       'guardian', 'traveltime', 'studytime', 'failures', 'schoolsup',\n",
       "       'famsup', 'paid', 'activities', 'nursery', 'higher', 'internet',\n",
       "       'romantic', 'famrel', 'freetime', 'goout', 'Dalc', 'Walc', 'health',\n",
       "       'absences', 'G1', 'G2', 'G3'],\n",
       "      dtype='object')"
      ]
     },
     "execution_count": 259,
     "metadata": {},
     "output_type": "execute_result"
    }
   ],
   "source": [
    "data.columns"
   ]
  },
  {
   "cell_type": "code",
   "execution_count": 260,
   "metadata": {
    "collapsed": true
   },
   "outputs": [],
   "source": [
    "#important fields\n",
    "features = ['NationalITy','Relation','raisedhands','VisITedResources','AnnouncementsView','Discussion',\n",
    "            'ParentAnsweringSurvey','StudentAbsenceDays','age','traveltime','studytime','failures','schoolsup','famsize',\n",
    "            'Medu','Fedu','famsup','paid','activities','nursery','higher','internet','romantic','freetime','goout','Dalc',\n",
    "            'Walc','health','absences','G1','G2']"
   ]
  },
  {
   "cell_type": "code",
   "execution_count": 261,
   "metadata": {},
   "outputs": [
    {
     "data": {
      "text/plain": [
       "31"
      ]
     },
     "execution_count": 261,
     "metadata": {},
     "output_type": "execute_result"
    }
   ],
   "source": [
    "len(features)"
   ]
  },
  {
   "cell_type": "code",
   "execution_count": 262,
   "metadata": {},
   "outputs": [
    {
     "data": {
      "text/html": [
       "<div>\n",
       "<style>\n",
       "    .dataframe thead tr:only-child th {\n",
       "        text-align: right;\n",
       "    }\n",
       "\n",
       "    .dataframe thead th {\n",
       "        text-align: left;\n",
       "    }\n",
       "\n",
       "    .dataframe tbody tr th {\n",
       "        vertical-align: top;\n",
       "    }\n",
       "</style>\n",
       "<table border=\"1\" class=\"dataframe\">\n",
       "  <thead>\n",
       "    <tr style=\"text-align: right;\">\n",
       "      <th></th>\n",
       "      <th>raisedhands</th>\n",
       "      <th>VisITedResources</th>\n",
       "      <th>AnnouncementsView</th>\n",
       "      <th>Discussion</th>\n",
       "      <th>StudentAbsenceDays</th>\n",
       "      <th>age</th>\n",
       "      <th>traveltime</th>\n",
       "      <th>studytime</th>\n",
       "      <th>failures</th>\n",
       "      <th>schoolsup</th>\n",
       "      <th>...</th>\n",
       "      <th>internet</th>\n",
       "      <th>romantic</th>\n",
       "      <th>freetime</th>\n",
       "      <th>goout</th>\n",
       "      <th>Dalc</th>\n",
       "      <th>Walc</th>\n",
       "      <th>health</th>\n",
       "      <th>absences</th>\n",
       "      <th>G1</th>\n",
       "      <th>G2</th>\n",
       "    </tr>\n",
       "  </thead>\n",
       "  <tbody>\n",
       "    <tr>\n",
       "      <th>0</th>\n",
       "      <td>15</td>\n",
       "      <td>16</td>\n",
       "      <td>2</td>\n",
       "      <td>20</td>\n",
       "      <td>1</td>\n",
       "      <td>18</td>\n",
       "      <td>2</td>\n",
       "      <td>2</td>\n",
       "      <td>0</td>\n",
       "      <td>1</td>\n",
       "      <td>...</td>\n",
       "      <td>0</td>\n",
       "      <td>0</td>\n",
       "      <td>3</td>\n",
       "      <td>4</td>\n",
       "      <td>1</td>\n",
       "      <td>1</td>\n",
       "      <td>3</td>\n",
       "      <td>6</td>\n",
       "      <td>5</td>\n",
       "      <td>6</td>\n",
       "    </tr>\n",
       "    <tr>\n",
       "      <th>1</th>\n",
       "      <td>20</td>\n",
       "      <td>20</td>\n",
       "      <td>3</td>\n",
       "      <td>25</td>\n",
       "      <td>1</td>\n",
       "      <td>17</td>\n",
       "      <td>1</td>\n",
       "      <td>2</td>\n",
       "      <td>0</td>\n",
       "      <td>0</td>\n",
       "      <td>...</td>\n",
       "      <td>1</td>\n",
       "      <td>0</td>\n",
       "      <td>3</td>\n",
       "      <td>3</td>\n",
       "      <td>1</td>\n",
       "      <td>1</td>\n",
       "      <td>3</td>\n",
       "      <td>4</td>\n",
       "      <td>5</td>\n",
       "      <td>5</td>\n",
       "    </tr>\n",
       "  </tbody>\n",
       "</table>\n",
       "<p>2 rows × 27 columns</p>\n",
       "</div>"
      ],
      "text/plain": [
       "   raisedhands  VisITedResources  AnnouncementsView  Discussion  \\\n",
       "0           15                16                  2          20   \n",
       "1           20                20                  3          25   \n",
       "\n",
       "   StudentAbsenceDays  age  traveltime  studytime  failures  schoolsup ...  \\\n",
       "0                   1   18           2          2         0          1 ...   \n",
       "1                   1   17           1          2         0          0 ...   \n",
       "\n",
       "   internet  romantic  freetime  goout  Dalc  Walc  health  absences  G1  G2  \n",
       "0         0         0         3      4     1     1       3         6   5   6  \n",
       "1         1         0         3      3     1     1       3         4   5   5  \n",
       "\n",
       "[2 rows x 27 columns]"
      ]
     },
     "execution_count": 262,
     "metadata": {},
     "output_type": "execute_result"
    }
   ],
   "source": [
    "x = data[features]\n",
    "del x['Relation']\n",
    "del x['NationalITy']\n",
    "del x['famsize']\n",
    "del x['ParentAnsweringSurvey']\n",
    "x.head(2)"
   ]
  },
  {
   "cell_type": "code",
   "execution_count": 263,
   "metadata": {},
   "outputs": [
    {
     "data": {
      "text/plain": [
       "pandas.core.frame.DataFrame"
      ]
     },
     "execution_count": 263,
     "metadata": {},
     "output_type": "execute_result"
    }
   ],
   "source": [
    "type(x)"
   ]
  },
  {
   "cell_type": "code",
   "execution_count": 264,
   "metadata": {
    "collapsed": true
   },
   "outputs": [],
   "source": [
    "y = data['G3']"
   ]
  },
  {
   "cell_type": "code",
   "execution_count": 265,
   "metadata": {},
   "outputs": [
    {
     "data": {
      "text/plain": [
       "0     6\n",
       "1     6\n",
       "2    10\n",
       "3    15\n",
       "4    10\n",
       "Name: G3, dtype: int64"
      ]
     },
     "execution_count": 265,
     "metadata": {},
     "output_type": "execute_result"
    }
   ],
   "source": [
    "y.head()"
   ]
  },
  {
   "cell_type": "code",
   "execution_count": 266,
   "metadata": {},
   "outputs": [
    {
     "name": "stdout",
     "output_type": "stream",
     "text": [
      "raisedhands  :  <class 'numpy.int64'>\n",
      "VisITedResources  :  <class 'numpy.int64'>\n",
      "AnnouncementsView  :  <class 'numpy.int64'>\n",
      "Discussion  :  <class 'numpy.int64'>\n",
      "StudentAbsenceDays  :  <class 'numpy.int64'>\n",
      "age  :  <class 'numpy.int64'>\n",
      "traveltime  :  <class 'numpy.int64'>\n",
      "studytime  :  <class 'numpy.int64'>\n",
      "failures  :  <class 'numpy.int64'>\n",
      "schoolsup  :  <class 'numpy.int64'>\n",
      "Medu  :  <class 'numpy.int64'>\n",
      "Fedu  :  <class 'numpy.int64'>\n",
      "famsup  :  <class 'numpy.int64'>\n",
      "paid  :  <class 'numpy.int64'>\n",
      "activities  :  <class 'numpy.int64'>\n",
      "nursery  :  <class 'numpy.int64'>\n",
      "higher  :  <class 'numpy.int64'>\n",
      "internet  :  <class 'numpy.int64'>\n",
      "romantic  :  <class 'numpy.int64'>\n",
      "freetime  :  <class 'numpy.int64'>\n",
      "goout  :  <class 'numpy.int64'>\n",
      "Dalc  :  <class 'numpy.int64'>\n",
      "Walc  :  <class 'numpy.int64'>\n",
      "health  :  <class 'numpy.int64'>\n",
      "absences  :  <class 'numpy.int64'>\n",
      "G1  :  <class 'numpy.int64'>\n",
      "G2  :  <class 'numpy.int64'>\n"
     ]
    }
   ],
   "source": [
    "#checking the data types\n",
    "for i in x.columns:\n",
    "    print(i,\" : \",type(data[i][1]))  "
   ]
  },
  {
   "cell_type": "code",
   "execution_count": 267,
   "metadata": {},
   "outputs": [
    {
     "data": {
      "text/html": [
       "<div>\n",
       "<style>\n",
       "    .dataframe thead tr:only-child th {\n",
       "        text-align: right;\n",
       "    }\n",
       "\n",
       "    .dataframe thead th {\n",
       "        text-align: left;\n",
       "    }\n",
       "\n",
       "    .dataframe tbody tr th {\n",
       "        vertical-align: top;\n",
       "    }\n",
       "</style>\n",
       "<table border=\"1\" class=\"dataframe\">\n",
       "  <thead>\n",
       "    <tr style=\"text-align: right;\">\n",
       "      <th></th>\n",
       "      <th>raisedhands</th>\n",
       "      <th>VisITedResources</th>\n",
       "      <th>AnnouncementsView</th>\n",
       "      <th>Discussion</th>\n",
       "      <th>StudentAbsenceDays</th>\n",
       "      <th>age</th>\n",
       "      <th>traveltime</th>\n",
       "      <th>studytime</th>\n",
       "      <th>failures</th>\n",
       "      <th>schoolsup</th>\n",
       "      <th>...</th>\n",
       "      <th>internet</th>\n",
       "      <th>romantic</th>\n",
       "      <th>freetime</th>\n",
       "      <th>goout</th>\n",
       "      <th>Dalc</th>\n",
       "      <th>Walc</th>\n",
       "      <th>health</th>\n",
       "      <th>absences</th>\n",
       "      <th>G1</th>\n",
       "      <th>G2</th>\n",
       "    </tr>\n",
       "  </thead>\n",
       "  <tbody>\n",
       "    <tr>\n",
       "      <th>0</th>\n",
       "      <td>15</td>\n",
       "      <td>16</td>\n",
       "      <td>2</td>\n",
       "      <td>20</td>\n",
       "      <td>1</td>\n",
       "      <td>18</td>\n",
       "      <td>2</td>\n",
       "      <td>2</td>\n",
       "      <td>0</td>\n",
       "      <td>1</td>\n",
       "      <td>...</td>\n",
       "      <td>0</td>\n",
       "      <td>0</td>\n",
       "      <td>3</td>\n",
       "      <td>4</td>\n",
       "      <td>1</td>\n",
       "      <td>1</td>\n",
       "      <td>3</td>\n",
       "      <td>6</td>\n",
       "      <td>5</td>\n",
       "      <td>6</td>\n",
       "    </tr>\n",
       "    <tr>\n",
       "      <th>1</th>\n",
       "      <td>20</td>\n",
       "      <td>20</td>\n",
       "      <td>3</td>\n",
       "      <td>25</td>\n",
       "      <td>1</td>\n",
       "      <td>17</td>\n",
       "      <td>1</td>\n",
       "      <td>2</td>\n",
       "      <td>0</td>\n",
       "      <td>0</td>\n",
       "      <td>...</td>\n",
       "      <td>1</td>\n",
       "      <td>0</td>\n",
       "      <td>3</td>\n",
       "      <td>3</td>\n",
       "      <td>1</td>\n",
       "      <td>1</td>\n",
       "      <td>3</td>\n",
       "      <td>4</td>\n",
       "      <td>5</td>\n",
       "      <td>5</td>\n",
       "    </tr>\n",
       "    <tr>\n",
       "      <th>2</th>\n",
       "      <td>10</td>\n",
       "      <td>7</td>\n",
       "      <td>0</td>\n",
       "      <td>30</td>\n",
       "      <td>0</td>\n",
       "      <td>15</td>\n",
       "      <td>1</td>\n",
       "      <td>2</td>\n",
       "      <td>3</td>\n",
       "      <td>1</td>\n",
       "      <td>...</td>\n",
       "      <td>1</td>\n",
       "      <td>0</td>\n",
       "      <td>3</td>\n",
       "      <td>2</td>\n",
       "      <td>2</td>\n",
       "      <td>3</td>\n",
       "      <td>3</td>\n",
       "      <td>10</td>\n",
       "      <td>7</td>\n",
       "      <td>8</td>\n",
       "    </tr>\n",
       "    <tr>\n",
       "      <th>3</th>\n",
       "      <td>30</td>\n",
       "      <td>25</td>\n",
       "      <td>5</td>\n",
       "      <td>35</td>\n",
       "      <td>0</td>\n",
       "      <td>15</td>\n",
       "      <td>1</td>\n",
       "      <td>3</td>\n",
       "      <td>0</td>\n",
       "      <td>0</td>\n",
       "      <td>...</td>\n",
       "      <td>1</td>\n",
       "      <td>1</td>\n",
       "      <td>2</td>\n",
       "      <td>2</td>\n",
       "      <td>1</td>\n",
       "      <td>1</td>\n",
       "      <td>5</td>\n",
       "      <td>2</td>\n",
       "      <td>15</td>\n",
       "      <td>14</td>\n",
       "    </tr>\n",
       "    <tr>\n",
       "      <th>4</th>\n",
       "      <td>40</td>\n",
       "      <td>50</td>\n",
       "      <td>12</td>\n",
       "      <td>50</td>\n",
       "      <td>0</td>\n",
       "      <td>16</td>\n",
       "      <td>1</td>\n",
       "      <td>2</td>\n",
       "      <td>0</td>\n",
       "      <td>0</td>\n",
       "      <td>...</td>\n",
       "      <td>0</td>\n",
       "      <td>0</td>\n",
       "      <td>3</td>\n",
       "      <td>2</td>\n",
       "      <td>1</td>\n",
       "      <td>2</td>\n",
       "      <td>5</td>\n",
       "      <td>4</td>\n",
       "      <td>6</td>\n",
       "      <td>10</td>\n",
       "    </tr>\n",
       "  </tbody>\n",
       "</table>\n",
       "<p>5 rows × 27 columns</p>\n",
       "</div>"
      ],
      "text/plain": [
       "   raisedhands  VisITedResources  AnnouncementsView  Discussion  \\\n",
       "0           15                16                  2          20   \n",
       "1           20                20                  3          25   \n",
       "2           10                 7                  0          30   \n",
       "3           30                25                  5          35   \n",
       "4           40                50                 12          50   \n",
       "\n",
       "   StudentAbsenceDays  age  traveltime  studytime  failures  schoolsup ...  \\\n",
       "0                   1   18           2          2         0          1 ...   \n",
       "1                   1   17           1          2         0          0 ...   \n",
       "2                   0   15           1          2         3          1 ...   \n",
       "3                   0   15           1          3         0          0 ...   \n",
       "4                   0   16           1          2         0          0 ...   \n",
       "\n",
       "   internet  romantic  freetime  goout  Dalc  Walc  health  absences  G1  G2  \n",
       "0         0         0         3      4     1     1       3         6   5   6  \n",
       "1         1         0         3      3     1     1       3         4   5   5  \n",
       "2         1         0         3      2     2     3       3        10   7   8  \n",
       "3         1         1         2      2     1     1       5         2  15  14  \n",
       "4         0         0         3      2     1     2       5         4   6  10  \n",
       "\n",
       "[5 rows x 27 columns]"
      ]
     },
     "execution_count": 267,
     "metadata": {},
     "output_type": "execute_result"
    }
   ],
   "source": [
    "x.head()"
   ]
  },
  {
   "cell_type": "code",
   "execution_count": 268,
   "metadata": {
    "collapsed": true
   },
   "outputs": [],
   "source": [
    "from sklearn.tree import DecisionTreeRegressor\n",
    "from sklearn.linear_model import LinearRegression\n",
    "from sklearn.model_selection import train_test_split\n",
    "from sklearn.metrics import mean_squared_error\n",
    "from math import sqrt"
   ]
  },
  {
   "cell_type": "code",
   "execution_count": 269,
   "metadata": {
    "collapsed": true
   },
   "outputs": [],
   "source": [
    "x_train,x_test,y_train,y_test = train_test_split(x,y,test_size=0.01,random_state=0)"
   ]
  },
  {
   "cell_type": "code",
   "execution_count": 270,
   "metadata": {},
   "outputs": [
    {
     "name": "stdout",
     "output_type": "stream",
     "text": [
      "391 4 391 4\n"
     ]
    }
   ],
   "source": [
    "print(len(x_train),len(x_test),len(y_train),len(y_test))"
   ]
  },
  {
   "cell_type": "code",
   "execution_count": 271,
   "metadata": {},
   "outputs": [
    {
     "data": {
      "text/plain": [
       "DecisionTreeRegressor(criterion='mse', max_depth=10, max_features=None,\n",
       "           max_leaf_nodes=None, min_impurity_split=1e-07,\n",
       "           min_samples_leaf=1, min_samples_split=2,\n",
       "           min_weight_fraction_leaf=0.0, presort=True, random_state=None,\n",
       "           splitter='best')"
      ]
     },
     "execution_count": 271,
     "metadata": {},
     "output_type": "execute_result"
    }
   ],
   "source": [
    "regressor = DecisionTreeRegressor(max_depth=10,presort=True)\n",
    "regressor.fit(x_train,y_train)"
   ]
  },
  {
   "cell_type": "code",
   "execution_count": 272,
   "metadata": {},
   "outputs": [],
   "source": [
    "y_prediction = regressor.predict(x_test)"
   ]
  },
  {
   "cell_type": "code",
   "execution_count": 273,
   "metadata": {},
   "outputs": [
    {
     "data": {
      "text/plain": [
       "array([ 14.   ,  12.   ,  10.   ,  15.625])"
      ]
     },
     "execution_count": 273,
     "metadata": {},
     "output_type": "execute_result"
    }
   ],
   "source": [
    "y_prediction"
   ]
  },
  {
   "cell_type": "code",
   "execution_count": 274,
   "metadata": {},
   "outputs": [
    {
     "data": {
      "text/plain": [
       "329    14\n",
       "318    10\n",
       "317     9\n",
       "65     15\n",
       "Name: G3, dtype: int64"
      ]
     },
     "execution_count": 274,
     "metadata": {},
     "output_type": "execute_result"
    }
   ],
   "source": [
    "y_test"
   ]
  },
  {
   "cell_type": "code",
   "execution_count": 275,
   "metadata": {
    "scrolled": true
   },
   "outputs": [
    {
     "name": "stdout",
     "output_type": "stream",
     "text": [
      "raisedhands  :  0.0106630481563\n",
      "VisITedResources  :  0.0086370913221\n",
      "AnnouncementsView  :  0.0234883078039\n",
      "Discussion  :  0.00195942301215\n",
      "StudentAbsenceDays  :  0.00133278148957\n",
      "age  :  0.0245210321586\n",
      "traveltime  :  0.000315371947369\n",
      "studytime  :  0.00924770260418\n",
      "failures  :  0.000804792141174\n",
      "schoolsup  :  0.000273235475062\n",
      "Medu  :  0.00029538970277\n",
      "Fedu  :  0.00101526388616\n",
      "famsup  :  0.0\n",
      "paid  :  0.000513553339456\n",
      "activities  :  9.12232905613e-05\n",
      "nursery  :  0.000597484909755\n",
      "higher  :  0.000106427172321\n",
      "internet  :  0.000438027731943\n",
      "romantic  :  0.000104255189213\n",
      "freetime  :  0.000243262108163\n",
      "goout  :  0.00108716889837\n",
      "Dalc  :  0.0\n",
      "Walc  :  0.00254319282099\n",
      "health  :  0.0156382783819\n",
      "absences  :  0.134491446839\n",
      "G1  :  0.00235512819091\n",
      "G2  :  0.759237111428\n"
     ]
    }
   ],
   "source": [
    "array = regressor.feature_importances_\n",
    "for i in range(0,len(x.columns)):\n",
    "   print(x.columns[i],\" : \",array[i])"
   ]
  },
  {
   "cell_type": "code",
   "execution_count": 276,
   "metadata": {},
   "outputs": [
    {
     "name": "stdout",
     "output_type": "stream",
     "text": [
      "1.1608859763129193\n"
     ]
    }
   ],
   "source": [
    "RMSE = sqrt(mean_squared_error(y_true=y_test,y_pred=y_prediction))\n",
    "print(RMSE)"
   ]
  },
  {
   "cell_type": "code",
   "execution_count": 277,
   "metadata": {
    "scrolled": true
   },
   "outputs": [
    {
     "name": "stdout",
     "output_type": "stream",
     "text": [
      "raisedhands  correlation :  -0.0651398776439\n",
      "VisITedResources  correlation :  -0.0879352201685\n",
      "AnnouncementsView  correlation :  -0.0394679941066\n",
      "Discussion  correlation :  0.0137232157619\n",
      "StudentAbsenceDays  correlation :  -0.0733620184244\n",
      "age  correlation :  -0.161579438138\n",
      "traveltime  correlation :  -0.117142052816\n",
      "studytime  correlation :  0.0978196896532\n",
      "failures  correlation :  -0.360414940462\n",
      "schoolsup  correlation :  -0.0827882149932\n",
      "Medu  correlation :  0.217147496139\n",
      "Fedu  correlation :  0.152456938904\n",
      "famsup  correlation :  -0.0391571452379\n",
      "paid  correlation :  0.101996240717\n",
      "activities  correlation :  0.0160997012958\n",
      "nursery  correlation :  0.0515679009109\n",
      "higher  correlation :  0.182464617858\n",
      "internet  correlation :  0.0984833712607\n",
      "romantic  correlation :  -0.129969950163\n",
      "freetime  correlation :  0.0113072403083\n",
      "goout  correlation :  -0.132791473503\n",
      "Dalc  correlation :  -0.0546600405667\n",
      "Walc  correlation :  -0.0519393237422\n",
      "health  correlation :  -0.0613346048771\n",
      "absences  correlation :  0.0342473161501\n",
      "G1  correlation :  0.801467932017\n",
      "G2  correlation :  0.904867989269\n"
     ]
    }
   ],
   "source": [
    "values = []\n",
    "\n",
    "for i in x.columns:\n",
    "    print(i,\" correlation : \",data['G3'].corr(data[i]))\n",
    "    values.append(data['G3'].corr(data[i]))\n",
    "    "
   ]
  },
  {
   "cell_type": "code",
   "execution_count": 278,
   "metadata": {},
   "outputs": [
    {
     "data": {
      "text/plain": [
       "[-0.36041494046164968,\n",
       " -0.16157943813834058,\n",
       " -0.13279147350332923,\n",
       " -0.12996995016344978,\n",
       " -0.11714205281614901,\n",
       " -0.087935220168544034,\n",
       " -0.082788214993163287,\n",
       " -0.073362018424350625,\n",
       " -0.065139877643890912,\n",
       " -0.061334604877121369,\n",
       " -0.054660040566735971,\n",
       " -0.051939323742246163,\n",
       " -0.039467994106605821,\n",
       " -0.039157145237904707,\n",
       " 0.011307240308313026,\n",
       " 0.013723215761879704,\n",
       " 0.016099701295814482,\n",
       " 0.034247316150069311,\n",
       " 0.051567900910917536,\n",
       " 0.097819689653196262,\n",
       " 0.098483371260728869,\n",
       " 0.10199624071669922,\n",
       " 0.15245693890425902,\n",
       " 0.18246461785815765,\n",
       " 0.21714749613860598,\n",
       " 0.80146793201741462,\n",
       " 0.9048679892693009]"
      ]
     },
     "execution_count": 278,
     "metadata": {},
     "output_type": "execute_result"
    }
   ],
   "source": [
    "values.sort()\n",
    "values"
   ]
  },
  {
   "cell_type": "code",
   "execution_count": 279,
   "metadata": {},
   "outputs": [
    {
     "data": {
      "text/plain": [
       "NationalITy              venzuela\n",
       "Relation                      Mum\n",
       "raisedhands                   100\n",
       "VisITedResources               99\n",
       "AnnouncementsView              98\n",
       "Discussion                     99\n",
       "ParentAnsweringSurvey         Yes\n",
       "StudentAbsenceDays              1\n",
       "age                            22\n",
       "traveltime                      4\n",
       "studytime                       4\n",
       "failures                        3\n",
       "schoolsup                       1\n",
       "famsize                         0\n",
       "Medu                            4\n",
       "Fedu                            4\n",
       "famsup                          1\n",
       "paid                            1\n",
       "activities                      1\n",
       "nursery                         1\n",
       "higher                          1\n",
       "internet                        1\n",
       "romantic                        1\n",
       "freetime                        5\n",
       "goout                           5\n",
       "Dalc                            5\n",
       "Walc                            5\n",
       "health                          5\n",
       "absences                       75\n",
       "G1                             19\n",
       "G2                             19\n",
       "dtype: object"
      ]
     },
     "execution_count": 279,
     "metadata": {},
     "output_type": "execute_result"
    }
   ],
   "source": [
    "\n",
    "data[features].max()"
   ]
  },
  {
   "cell_type": "code",
   "execution_count": 280,
   "metadata": {
    "collapsed": true
   },
   "outputs": [],
   "source": [
    "positive_features = ['G2','G1','Medu','higher','studytime','age',]\n",
    "negative_features = ['failures','goout','romantic','traveltime']\n"
   ]
  },
  {
   "cell_type": "code",
   "execution_count": 281,
   "metadata": {},
   "outputs": [
    {
     "name": "stdout",
     "output_type": "stream",
     "text": [
      "Welcome!!! Please Enter your name: \n",
      "Please mention the no. of hours you study : \n",
      "Mention your daily travel time : 12\n",
      "What is your age : 12\n",
      "How much of time do you spend with your friends : 12\n",
      "Are you presently in a relationship'(yes or no)'12\n",
      "Do you wish to pursue higher studies '(yes or no)': 21\n",
      "On a scale of 1 to 5 what is your family education '(1 being primary to 5 being college degree)' :21\n",
      "Mention your score in first test : 1\n",
      "Mention your score in second test : 1221\n",
      "how many test have you failed '(1 ,2 or 3)' : 21\n"
     ]
    },
    {
     "data": {
      "text/plain": [
       "['', '', '12', '12', '12', '12', '21', '21', '1', '1221', '21']"
      ]
     },
     "execution_count": 281,
     "metadata": {},
     "output_type": "execute_result"
    }
   ],
   "source": [
    "#User_data input\n",
    "user_data=[]\n",
    "user_name = input(\"Welcome!!! Please Enter your name: \")\n",
    "user_data.append(user_name)\n",
    "data1 = input(\"Please mention the no. of hours you study : \")\n",
    "data2 = input(\"Mention your daily travel time : \")\n",
    "data3 = input(\"What is your age : \")\n",
    "data4 = input(\"How much of time do you spend with your friends : \")\n",
    "data5 = input(\"Are you presently in a relationship'(yes or no)'\")\n",
    "data6 = input(\"Do you wish to pursue higher studies '(yes or no)': \")\n",
    "data7 = input(\"On a scale of 1 to 5 what is your family education '(1 being primary to 5 being college degree)' :\")\n",
    "data8 = input(\"Mention your score in first test : \")\n",
    "data9 = input(\"Mention your score in second test : \")\n",
    "data10 = input(\"how many test have you failed '(1 ,2 or 3)' : \")\n",
    "\n",
    "for i in range(1,11):\n",
    "    data = \"data\"+str(i)\n",
    "    user_data.append(globals()[data])\n",
    "user_data    "
   ]
  },
  {
   "cell_type": "code",
   "execution_count": 282,
   "metadata": {},
   "outputs": [
    {
     "data": {
      "text/plain": [
       "329    1\n",
       "Name: internet, dtype: int64"
      ]
     },
     "execution_count": 282,
     "metadata": {},
     "output_type": "execute_result"
    }
   ],
   "source": [
    "user = x_test['internet'].head(1)\n",
    "user"
   ]
  },
  {
   "cell_type": "code",
   "execution_count": null,
   "metadata": {
    "collapsed": true
   },
   "outputs": [],
   "source": []
  }
 ],
 "metadata": {
  "kernelspec": {
   "display_name": "Python 3",
   "language": "python",
   "name": "python3"
  },
  "language_info": {
   "codemirror_mode": {
    "name": "ipython",
    "version": 3
   },
   "file_extension": ".py",
   "mimetype": "text/x-python",
   "name": "python",
   "nbconvert_exporter": "python",
   "pygments_lexer": "ipython3",
   "version": "3.5.2"
  }
 },
 "nbformat": 4,
 "nbformat_minor": 2
}
