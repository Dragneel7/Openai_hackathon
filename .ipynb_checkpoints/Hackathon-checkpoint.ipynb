{
 "cells": [
  {
   "cell_type": "code",
   "execution_count": 3,
   "metadata": {
    "collapsed": true
   },
   "outputs": [],
   "source": [
    "import pandas as pd\n",
    "import numpy as np\n",
    "import matplotlib.pyplot as plt"
   ]
  },
  {
   "cell_type": "code",
   "execution_count": 4,
   "metadata": {},
   "outputs": [],
   "source": [
    "student_grades   =   pd.read_csv('hackathon_data/student-mat.csv')\n",
    "student_behavior =   pd.read_csv('hackathon_data/xAPI-Edu-Data.csv')"
   ]
  },
  {
   "cell_type": "code",
   "execution_count": 5,
   "metadata": {},
   "outputs": [
    {
     "name": "stdout",
     "output_type": "stream",
     "text": [
      "649\n"
     ]
    },
    {
     "data": {
      "text/plain": [
       "Index([u'school', u'sex', u'age', u'address', u'famsize', u'Pstatus', u'Medu',\n",
       "       u'Fedu', u'Mjob', u'Fjob', u'reason', u'guardian', u'traveltime',\n",
       "       u'studytime', u'failures', u'schoolsup', u'famsup', u'paid',\n",
       "       u'activities', u'nursery', u'higher', u'internet', u'romantic',\n",
       "       u'famrel', u'freetime', u'goout', u'Dalc', u'Walc', u'health',\n",
       "       u'absences', u'G1', u'G2', u'G3'],\n",
       "      dtype='object')"
      ]
     },
     "execution_count": 5,
     "metadata": {},
     "output_type": "execute_result"
    }
   ],
   "source": [
    "print(len(student_grades))\n",
    "student_grades.columns"
   ]
  },
  {
   "cell_type": "code",
   "execution_count": 6,
   "metadata": {},
   "outputs": [
    {
     "name": "stdout",
     "output_type": "stream",
     "text": [
      "480\n"
     ]
    },
    {
     "data": {
      "text/plain": [
       "Index([u'gender', u'NationalITy', u'PlaceofBirth', u'StageID', u'GradeID',\n",
       "       u'SectionID', u'Topic', u'Semester', u'Relation', u'raisedhands',\n",
       "       u'VisITedResources', u'AnnouncementsView', u'Discussion',\n",
       "       u'ParentAnsweringSurvey', u'ParentschoolSatisfaction',\n",
       "       u'StudentAbsenceDays', u'Class'],\n",
       "      dtype='object')"
      ]
     },
     "execution_count": 6,
     "metadata": {},
     "output_type": "execute_result"
    }
   ],
   "source": [
    "print(len(student_behavior))\n",
    "student_behavior.columns"
   ]
  },
  {
   "cell_type": "code",
   "execution_count": 7,
   "metadata": {},
   "outputs": [
    {
     "name": "stdout",
     "output_type": "stream",
     "text": [
      "395\n"
     ]
    }
   ],
   "source": [
    "student_behavior = student_behavior[:395]\n",
    "print(len(student_behavior))"
   ]
  },
  {
   "cell_type": "code",
   "execution_count": 8,
   "metadata": {
    "collapsed": true
   },
   "outputs": [],
   "source": [
    "#joining the 2 dataframes \n",
    "data = student_behavior.join(student_grades)"
   ]
  },
  {
   "cell_type": "code",
   "execution_count": 9,
   "metadata": {
    "collapsed": true
   },
   "outputs": [],
   "source": [
    "data['romantic'] = (data['romantic'] == \"yes\")*1\n",
    "\n"
   ]
  },
  {
   "cell_type": "code",
   "execution_count": 10,
   "metadata": {
    "collapsed": true
   },
   "outputs": [],
   "source": [
    "data['internet'] = (data['internet'] == \"yes\")*1"
   ]
  },
  {
   "cell_type": "code",
   "execution_count": 11,
   "metadata": {
    "collapsed": true
   },
   "outputs": [],
   "source": [
    "data['higher'] = (data['higher'] == \"yes\")*1\n"
   ]
  },
  {
   "cell_type": "code",
   "execution_count": 12,
   "metadata": {
    "collapsed": true
   },
   "outputs": [],
   "source": [
    "data['nursery'] = (data['nursery'] == \"yes\")*1\n"
   ]
  },
  {
   "cell_type": "code",
   "execution_count": 13,
   "metadata": {
    "collapsed": true
   },
   "outputs": [],
   "source": [
    "data['activities'] = (data['activities'] == \"yes\")*1\n"
   ]
  },
  {
   "cell_type": "code",
   "execution_count": 14,
   "metadata": {
    "collapsed": true
   },
   "outputs": [],
   "source": [
    "data['paid'] = (data['paid'] == \"yes\")*1"
   ]
  },
  {
   "cell_type": "code",
   "execution_count": 15,
   "metadata": {
    "collapsed": true
   },
   "outputs": [],
   "source": [
    "data['famsup'] = (data['famsup'] == \"yes\")*1"
   ]
  },
  {
   "cell_type": "code",
   "execution_count": 16,
   "metadata": {
    "collapsed": true
   },
   "outputs": [],
   "source": [
    "data['schoolsup'] = (data['schoolsup'] == \"yes\")*1"
   ]
  },
  {
   "cell_type": "code",
   "execution_count": 17,
   "metadata": {
    "collapsed": true
   },
   "outputs": [],
   "source": [
    "data['StudentAbsenceDays'] = (data['StudentAbsenceDays'] == \"Under-7\")*1"
   ]
  },
  {
   "cell_type": "code",
   "execution_count": 22,
   "metadata": {
    "collapsed": true
   },
   "outputs": [],
   "source": [
    "data['famsize'] = (data['famsize'] == \"GT3\")*0\n"
   ]
  },
  {
   "cell_type": "code",
   "execution_count": 23,
   "metadata": {},
   "outputs": [
    {
     "data": {
      "text/plain": [
       "Index([u'gender', u'NationalITy', u'PlaceofBirth', u'StageID', u'GradeID',\n",
       "       u'SectionID', u'Topic', u'Semester', u'Relation', u'raisedhands',\n",
       "       u'VisITedResources', u'AnnouncementsView', u'Discussion',\n",
       "       u'ParentAnsweringSurvey', u'ParentschoolSatisfaction',\n",
       "       u'StudentAbsenceDays', u'Class', u'school', u'sex', u'age', u'address',\n",
       "       u'famsize', u'Pstatus', u'Medu', u'Fedu', u'Mjob', u'Fjob', u'reason',\n",
       "       u'guardian', u'traveltime', u'studytime', u'failures', u'schoolsup',\n",
       "       u'famsup', u'paid', u'activities', u'nursery', u'higher', u'internet',\n",
       "       u'romantic', u'famrel', u'freetime', u'goout', u'Dalc', u'Walc',\n",
       "       u'health', u'absences', u'G1', u'G2', u'G3'],\n",
       "      dtype='object')"
      ]
     },
     "execution_count": 23,
     "metadata": {},
     "output_type": "execute_result"
    }
   ],
   "source": [
    "data.columns"
   ]
  },
  {
   "cell_type": "code",
   "execution_count": 24,
   "metadata": {
    "collapsed": true
   },
   "outputs": [],
   "source": [
    "#important fields\n",
    "features = ['NationalITy','Relation','raisedhands','VisITedResources','AnnouncementsView','Discussion',\n",
    "            'ParentAnsweringSurvey','StudentAbsenceDays','age','traveltime','studytime','failures','schoolsup','famsize',\n",
    "            'Medu','Fedu','famsup','paid','activities','nursery','higher','internet','romantic','freetime','goout','Dalc',\n",
    "            'Walc','health','absences','G1','G2']"
   ]
  },
  {
   "cell_type": "code",
   "execution_count": 25,
   "metadata": {},
   "outputs": [
    {
     "data": {
      "text/plain": [
       "31"
      ]
     },
     "execution_count": 25,
     "metadata": {},
     "output_type": "execute_result"
    }
   ],
   "source": [
    "len(features)"
   ]
  },
  {
   "cell_type": "code",
   "execution_count": 26,
   "metadata": {},
   "outputs": [
    {
     "data": {
      "text/html": [
       "<div>\n",
       "<style>\n",
       "    .dataframe thead tr:only-child th {\n",
       "        text-align: right;\n",
       "    }\n",
       "\n",
       "    .dataframe thead th {\n",
       "        text-align: left;\n",
       "    }\n",
       "\n",
       "    .dataframe tbody tr th {\n",
       "        vertical-align: top;\n",
       "    }\n",
       "</style>\n",
       "<table border=\"1\" class=\"dataframe\">\n",
       "  <thead>\n",
       "    <tr style=\"text-align: right;\">\n",
       "      <th></th>\n",
       "      <th>raisedhands</th>\n",
       "      <th>VisITedResources</th>\n",
       "      <th>AnnouncementsView</th>\n",
       "      <th>Discussion</th>\n",
       "      <th>StudentAbsenceDays</th>\n",
       "      <th>age</th>\n",
       "      <th>traveltime</th>\n",
       "      <th>studytime</th>\n",
       "      <th>failures</th>\n",
       "      <th>schoolsup</th>\n",
       "      <th>...</th>\n",
       "      <th>internet</th>\n",
       "      <th>romantic</th>\n",
       "      <th>freetime</th>\n",
       "      <th>goout</th>\n",
       "      <th>Dalc</th>\n",
       "      <th>Walc</th>\n",
       "      <th>health</th>\n",
       "      <th>absences</th>\n",
       "      <th>G1</th>\n",
       "      <th>G2</th>\n",
       "    </tr>\n",
       "  </thead>\n",
       "  <tbody>\n",
       "    <tr>\n",
       "      <th>0</th>\n",
       "      <td>15</td>\n",
       "      <td>16</td>\n",
       "      <td>2</td>\n",
       "      <td>20</td>\n",
       "      <td>1</td>\n",
       "      <td>18</td>\n",
       "      <td>2</td>\n",
       "      <td>2</td>\n",
       "      <td>0</td>\n",
       "      <td>1</td>\n",
       "      <td>...</td>\n",
       "      <td>0</td>\n",
       "      <td>0</td>\n",
       "      <td>3</td>\n",
       "      <td>4</td>\n",
       "      <td>1</td>\n",
       "      <td>1</td>\n",
       "      <td>3</td>\n",
       "      <td>4</td>\n",
       "      <td>0</td>\n",
       "      <td>11</td>\n",
       "    </tr>\n",
       "    <tr>\n",
       "      <th>1</th>\n",
       "      <td>20</td>\n",
       "      <td>20</td>\n",
       "      <td>3</td>\n",
       "      <td>25</td>\n",
       "      <td>1</td>\n",
       "      <td>17</td>\n",
       "      <td>1</td>\n",
       "      <td>2</td>\n",
       "      <td>0</td>\n",
       "      <td>0</td>\n",
       "      <td>...</td>\n",
       "      <td>1</td>\n",
       "      <td>0</td>\n",
       "      <td>3</td>\n",
       "      <td>3</td>\n",
       "      <td>1</td>\n",
       "      <td>1</td>\n",
       "      <td>3</td>\n",
       "      <td>2</td>\n",
       "      <td>9</td>\n",
       "      <td>11</td>\n",
       "    </tr>\n",
       "  </tbody>\n",
       "</table>\n",
       "<p>2 rows × 27 columns</p>\n",
       "</div>"
      ],
      "text/plain": [
       "   raisedhands  VisITedResources  AnnouncementsView  Discussion  \\\n",
       "0           15                16                  2          20   \n",
       "1           20                20                  3          25   \n",
       "\n",
       "   StudentAbsenceDays  age  traveltime  studytime  failures  schoolsup ...  \\\n",
       "0                   1   18           2          2         0          1 ...   \n",
       "1                   1   17           1          2         0          0 ...   \n",
       "\n",
       "   internet  romantic  freetime  goout  Dalc  Walc  health  absences  G1  G2  \n",
       "0         0         0         3      4     1     1       3         4   0  11  \n",
       "1         1         0         3      3     1     1       3         2   9  11  \n",
       "\n",
       "[2 rows x 27 columns]"
      ]
     },
     "execution_count": 26,
     "metadata": {},
     "output_type": "execute_result"
    }
   ],
   "source": [
    "x = data[features]\n",
    "del x['Relation']\n",
    "del x['NationalITy']\n",
    "del x['famsize']\n",
    "del x['ParentAnsweringSurvey']\n",
    "x.head(2)"
   ]
  },
  {
   "cell_type": "code",
   "execution_count": 27,
   "metadata": {},
   "outputs": [
    {
     "data": {
      "text/plain": [
       "pandas.core.frame.DataFrame"
      ]
     },
     "execution_count": 27,
     "metadata": {},
     "output_type": "execute_result"
    }
   ],
   "source": [
    "type(x)"
   ]
  },
  {
   "cell_type": "code",
   "execution_count": 28,
   "metadata": {
    "collapsed": true
   },
   "outputs": [],
   "source": [
    "y = data['G3']"
   ]
  },
  {
   "cell_type": "code",
   "execution_count": 29,
   "metadata": {},
   "outputs": [
    {
     "data": {
      "text/plain": [
       "0    11\n",
       "1    11\n",
       "2    12\n",
       "3    14\n",
       "4    13\n",
       "Name: G3, dtype: int64"
      ]
     },
     "execution_count": 29,
     "metadata": {},
     "output_type": "execute_result"
    }
   ],
   "source": [
    "y.head()"
   ]
  },
  {
   "cell_type": "code",
   "execution_count": 30,
   "metadata": {},
   "outputs": [
    {
     "name": "stdout",
     "output_type": "stream",
     "text": [
      "('raisedhands', ' : ', <type 'numpy.int64'>)\n",
      "('VisITedResources', ' : ', <type 'numpy.int64'>)\n",
      "('AnnouncementsView', ' : ', <type 'numpy.int64'>)\n",
      "('Discussion', ' : ', <type 'numpy.int64'>)\n",
      "('StudentAbsenceDays', ' : ', <type 'numpy.int64'>)\n",
      "('age', ' : ', <type 'numpy.int64'>)\n",
      "('traveltime', ' : ', <type 'numpy.int64'>)\n",
      "('studytime', ' : ', <type 'numpy.int64'>)\n",
      "('failures', ' : ', <type 'numpy.int64'>)\n",
      "('schoolsup', ' : ', <type 'numpy.int64'>)\n",
      "('Medu', ' : ', <type 'numpy.int64'>)\n",
      "('Fedu', ' : ', <type 'numpy.int64'>)\n",
      "('famsup', ' : ', <type 'numpy.int64'>)\n",
      "('paid', ' : ', <type 'numpy.int64'>)\n",
      "('activities', ' : ', <type 'numpy.int64'>)\n",
      "('nursery', ' : ', <type 'numpy.int64'>)\n",
      "('higher', ' : ', <type 'numpy.int64'>)\n",
      "('internet', ' : ', <type 'numpy.int64'>)\n",
      "('romantic', ' : ', <type 'numpy.int64'>)\n",
      "('freetime', ' : ', <type 'numpy.int64'>)\n",
      "('goout', ' : ', <type 'numpy.int64'>)\n",
      "('Dalc', ' : ', <type 'numpy.int64'>)\n",
      "('Walc', ' : ', <type 'numpy.int64'>)\n",
      "('health', ' : ', <type 'numpy.int64'>)\n",
      "('absences', ' : ', <type 'numpy.int64'>)\n",
      "('G1', ' : ', <type 'numpy.int64'>)\n",
      "('G2', ' : ', <type 'numpy.int64'>)\n"
     ]
    }
   ],
   "source": [
    "#checking the data types\n",
    "for i in x.columns:\n",
    "    print(i,\" : \",type(data[i][1]))  "
   ]
  },
  {
   "cell_type": "code",
   "execution_count": 31,
   "metadata": {},
   "outputs": [
    {
     "data": {
      "text/html": [
       "<div>\n",
       "<style>\n",
       "    .dataframe thead tr:only-child th {\n",
       "        text-align: right;\n",
       "    }\n",
       "\n",
       "    .dataframe thead th {\n",
       "        text-align: left;\n",
       "    }\n",
       "\n",
       "    .dataframe tbody tr th {\n",
       "        vertical-align: top;\n",
       "    }\n",
       "</style>\n",
       "<table border=\"1\" class=\"dataframe\">\n",
       "  <thead>\n",
       "    <tr style=\"text-align: right;\">\n",
       "      <th></th>\n",
       "      <th>raisedhands</th>\n",
       "      <th>VisITedResources</th>\n",
       "      <th>AnnouncementsView</th>\n",
       "      <th>Discussion</th>\n",
       "      <th>StudentAbsenceDays</th>\n",
       "      <th>age</th>\n",
       "      <th>traveltime</th>\n",
       "      <th>studytime</th>\n",
       "      <th>failures</th>\n",
       "      <th>schoolsup</th>\n",
       "      <th>...</th>\n",
       "      <th>internet</th>\n",
       "      <th>romantic</th>\n",
       "      <th>freetime</th>\n",
       "      <th>goout</th>\n",
       "      <th>Dalc</th>\n",
       "      <th>Walc</th>\n",
       "      <th>health</th>\n",
       "      <th>absences</th>\n",
       "      <th>G1</th>\n",
       "      <th>G2</th>\n",
       "    </tr>\n",
       "  </thead>\n",
       "  <tbody>\n",
       "    <tr>\n",
       "      <th>0</th>\n",
       "      <td>15</td>\n",
       "      <td>16</td>\n",
       "      <td>2</td>\n",
       "      <td>20</td>\n",
       "      <td>1</td>\n",
       "      <td>18</td>\n",
       "      <td>2</td>\n",
       "      <td>2</td>\n",
       "      <td>0</td>\n",
       "      <td>1</td>\n",
       "      <td>...</td>\n",
       "      <td>0</td>\n",
       "      <td>0</td>\n",
       "      <td>3</td>\n",
       "      <td>4</td>\n",
       "      <td>1</td>\n",
       "      <td>1</td>\n",
       "      <td>3</td>\n",
       "      <td>4</td>\n",
       "      <td>0</td>\n",
       "      <td>11</td>\n",
       "    </tr>\n",
       "    <tr>\n",
       "      <th>1</th>\n",
       "      <td>20</td>\n",
       "      <td>20</td>\n",
       "      <td>3</td>\n",
       "      <td>25</td>\n",
       "      <td>1</td>\n",
       "      <td>17</td>\n",
       "      <td>1</td>\n",
       "      <td>2</td>\n",
       "      <td>0</td>\n",
       "      <td>0</td>\n",
       "      <td>...</td>\n",
       "      <td>1</td>\n",
       "      <td>0</td>\n",
       "      <td>3</td>\n",
       "      <td>3</td>\n",
       "      <td>1</td>\n",
       "      <td>1</td>\n",
       "      <td>3</td>\n",
       "      <td>2</td>\n",
       "      <td>9</td>\n",
       "      <td>11</td>\n",
       "    </tr>\n",
       "    <tr>\n",
       "      <th>2</th>\n",
       "      <td>10</td>\n",
       "      <td>7</td>\n",
       "      <td>0</td>\n",
       "      <td>30</td>\n",
       "      <td>0</td>\n",
       "      <td>15</td>\n",
       "      <td>1</td>\n",
       "      <td>2</td>\n",
       "      <td>0</td>\n",
       "      <td>1</td>\n",
       "      <td>...</td>\n",
       "      <td>1</td>\n",
       "      <td>0</td>\n",
       "      <td>3</td>\n",
       "      <td>2</td>\n",
       "      <td>2</td>\n",
       "      <td>3</td>\n",
       "      <td>3</td>\n",
       "      <td>6</td>\n",
       "      <td>12</td>\n",
       "      <td>13</td>\n",
       "    </tr>\n",
       "    <tr>\n",
       "      <th>3</th>\n",
       "      <td>30</td>\n",
       "      <td>25</td>\n",
       "      <td>5</td>\n",
       "      <td>35</td>\n",
       "      <td>0</td>\n",
       "      <td>15</td>\n",
       "      <td>1</td>\n",
       "      <td>3</td>\n",
       "      <td>0</td>\n",
       "      <td>0</td>\n",
       "      <td>...</td>\n",
       "      <td>1</td>\n",
       "      <td>1</td>\n",
       "      <td>2</td>\n",
       "      <td>2</td>\n",
       "      <td>1</td>\n",
       "      <td>1</td>\n",
       "      <td>5</td>\n",
       "      <td>0</td>\n",
       "      <td>14</td>\n",
       "      <td>14</td>\n",
       "    </tr>\n",
       "    <tr>\n",
       "      <th>4</th>\n",
       "      <td>40</td>\n",
       "      <td>50</td>\n",
       "      <td>12</td>\n",
       "      <td>50</td>\n",
       "      <td>0</td>\n",
       "      <td>16</td>\n",
       "      <td>1</td>\n",
       "      <td>2</td>\n",
       "      <td>0</td>\n",
       "      <td>0</td>\n",
       "      <td>...</td>\n",
       "      <td>0</td>\n",
       "      <td>0</td>\n",
       "      <td>3</td>\n",
       "      <td>2</td>\n",
       "      <td>1</td>\n",
       "      <td>2</td>\n",
       "      <td>5</td>\n",
       "      <td>0</td>\n",
       "      <td>11</td>\n",
       "      <td>13</td>\n",
       "    </tr>\n",
       "  </tbody>\n",
       "</table>\n",
       "<p>5 rows × 27 columns</p>\n",
       "</div>"
      ],
      "text/plain": [
       "   raisedhands  VisITedResources  AnnouncementsView  Discussion  \\\n",
       "0           15                16                  2          20   \n",
       "1           20                20                  3          25   \n",
       "2           10                 7                  0          30   \n",
       "3           30                25                  5          35   \n",
       "4           40                50                 12          50   \n",
       "\n",
       "   StudentAbsenceDays  age  traveltime  studytime  failures  schoolsup ...  \\\n",
       "0                   1   18           2          2         0          1 ...   \n",
       "1                   1   17           1          2         0          0 ...   \n",
       "2                   0   15           1          2         0          1 ...   \n",
       "3                   0   15           1          3         0          0 ...   \n",
       "4                   0   16           1          2         0          0 ...   \n",
       "\n",
       "   internet  romantic  freetime  goout  Dalc  Walc  health  absences  G1  G2  \n",
       "0         0         0         3      4     1     1       3         4   0  11  \n",
       "1         1         0         3      3     1     1       3         2   9  11  \n",
       "2         1         0         3      2     2     3       3         6  12  13  \n",
       "3         1         1         2      2     1     1       5         0  14  14  \n",
       "4         0         0         3      2     1     2       5         0  11  13  \n",
       "\n",
       "[5 rows x 27 columns]"
      ]
     },
     "execution_count": 31,
     "metadata": {},
     "output_type": "execute_result"
    }
   ],
   "source": [
    "x.head()"
   ]
  },
  {
   "cell_type": "code",
   "execution_count": 32,
   "metadata": {
    "collapsed": true
   },
   "outputs": [],
   "source": [
    "from sklearn.tree import DecisionTreeRegressor\n",
    "from sklearn.linear_model import LinearRegression\n",
    "from sklearn.model_selection import train_test_split\n",
    "from sklearn.metrics import mean_squared_error\n",
    "from math import sqrt"
   ]
  },
  {
   "cell_type": "code",
   "execution_count": 33,
   "metadata": {
    "collapsed": true
   },
   "outputs": [],
   "source": [
    "x_train,x_test,y_train,y_test = train_test_split(x,y,test_size=0.01,random_state=0)"
   ]
  },
  {
   "cell_type": "code",
   "execution_count": 75,
   "metadata": {},
   "outputs": [
    {
     "name": "stdout",
     "output_type": "stream",
     "text": [
      "(391, 4, 391, 4)\n",
      "Index([u'raisedhands', u'VisITedResources', u'AnnouncementsView',\n",
      "       u'Discussion', u'StudentAbsenceDays', u'age', u'traveltime',\n",
      "       u'studytime', u'failures', u'schoolsup', u'Medu', u'Fedu', u'famsup',\n",
      "       u'paid', u'activities', u'nursery', u'higher', u'internet', u'romantic',\n",
      "       u'freetime', u'goout', u'Dalc', u'Walc', u'health', u'absences', u'G1',\n",
      "       u'G2'],\n",
      "      dtype='object')\n",
      "59     16\n",
      "287    10\n",
      "212    16\n",
      "60     16\n",
      "394    16\n",
      "324    11\n",
      "375    15\n",
      "74     11\n",
      "76     11\n",
      "106    10\n",
      "215    12\n",
      "12     12\n",
      "132    11\n",
      "264    10\n",
      "268    12\n",
      "167    13\n",
      "168     8\n",
      "150     9\n",
      "90     11\n",
      "171    11\n",
      "282     7\n",
      "37     13\n",
      "339    15\n",
      "113    18\n",
      "135    14\n",
      "102    12\n",
      "144    11\n",
      "78     10\n",
      "330    14\n",
      "216    15\n",
      "       ..\n",
      "243    16\n",
      "115    14\n",
      "265    15\n",
      "72     11\n",
      "333    14\n",
      "25     12\n",
      "165    13\n",
      "337    18\n",
      "379    10\n",
      "174     9\n",
      "381    15\n",
      "39     12\n",
      "193    13\n",
      "314    18\n",
      "88     11\n",
      "70     11\n",
      "87     15\n",
      "292    14\n",
      "242    11\n",
      "277    11\n",
      "211    12\n",
      "9      13\n",
      "359    17\n",
      "195    13\n",
      "251    10\n",
      "323    10\n",
      "192    11\n",
      "117    15\n",
      "47     17\n",
      "172     1\n",
      "Name: G3, Length: 391, dtype: int64\n"
     ]
    }
   ],
   "source": [
    "print(len(x_train),len(x_test),len(y_train),len(y_test))\n",
    "print(x_train.columns)\n",
    "print(y_train)"
   ]
  },
  {
   "cell_type": "code",
   "execution_count": 35,
   "metadata": {},
   "outputs": [
    {
     "data": {
      "text/plain": [
       "DecisionTreeRegressor(criterion='mse', max_depth=10, max_features=None,\n",
       "           max_leaf_nodes=None, min_impurity_split=1e-07,\n",
       "           min_samples_leaf=1, min_samples_split=2,\n",
       "           min_weight_fraction_leaf=0.0, presort=True, random_state=None,\n",
       "           splitter='best')"
      ]
     },
     "execution_count": 35,
     "metadata": {},
     "output_type": "execute_result"
    }
   ],
   "source": [
    "regressor = DecisionTreeRegressor(max_depth=10,presort=True)\n",
    "regressor.fit(x_train,y_train)"
   ]
  },
  {
   "cell_type": "code",
   "execution_count": 36,
   "metadata": {
    "collapsed": true
   },
   "outputs": [],
   "source": [
    "y_prediction = regressor.predict(x_test)"
   ]
  },
  {
   "cell_type": "code",
   "execution_count": 37,
   "metadata": {},
   "outputs": [
    {
     "data": {
      "text/plain": [
       "array([ 13.,   9.,  13.,  17.])"
      ]
     },
     "execution_count": 37,
     "metadata": {},
     "output_type": "execute_result"
    }
   ],
   "source": [
    "y_prediction"
   ]
  },
  {
   "cell_type": "code",
   "execution_count": 68,
   "metadata": {},
   "outputs": [
    {
     "data": {
      "text/plain": [
       "pandas.core.series.Series"
      ]
     },
     "execution_count": 68,
     "metadata": {},
     "output_type": "execute_result"
    }
   ],
   "source": [
    "type(y_test)"
   ]
  },
  {
   "cell_type": "code",
   "execution_count": 39,
   "metadata": {
    "scrolled": true
   },
   "outputs": [
    {
     "name": "stdout",
     "output_type": "stream",
     "text": [
      "('raisedhands', ' : ', 0.0055883377186129787)\n",
      "('VisITedResources', ' : ', 0.014327313408161228)\n",
      "('AnnouncementsView', ' : ', 0.031719661267397642)\n",
      "('Discussion', ' : ', 0.016224800160989844)\n",
      "('StudentAbsenceDays', ' : ', 0.00089120081622712634)\n",
      "('age', ' : ', 0.034066169774722342)\n",
      "('traveltime', ' : ', 0.0036738678907411305)\n",
      "('studytime', ' : ', 0.0026096160493805035)\n",
      "('failures', ' : ', 0.0)\n",
      "('schoolsup', ' : ', 0.0012560759281610313)\n",
      "('Medu', ' : ', 0.0016203651204128734)\n",
      "('Fedu', ' : ', 0.0055233293876845793)\n",
      "('famsup', ' : ', 0.0018645690835955803)\n",
      "('paid', ' : ', 0.0012660299581475866)\n",
      "('activities', ' : ', 0.0068262190179091773)\n",
      "('nursery', ' : ', 0.00076478935293233579)\n",
      "('higher', ' : ', 0.011742221269777774)\n",
      "('internet', ' : ', 0.0001896171949419216)\n",
      "('romantic', ' : ', 0.0)\n",
      "('freetime', ' : ', 0.0031724207308478549)\n",
      "('goout', ' : ', 0.0018502548443695747)\n",
      "('Dalc', ' : ', 0.010896992267952906)\n",
      "('Walc', ' : ', 0.0020975113421093428)\n",
      "('health', ' : ', 0.0012738385916611166)\n",
      "('absences', ' : ', 0.0074214018980830222)\n",
      "('G1', ' : ', 0.013481422517288026)\n",
      "('G2', ' : ', 0.8196519744078925)\n"
     ]
    }
   ],
   "source": [
    "array = regressor.feature_importances_\n",
    "for i in range(0,len(x.columns)):\n",
    "   print(x.columns[i],\" : \",array[i])"
   ]
  },
  {
   "cell_type": "code",
   "execution_count": 40,
   "metadata": {},
   "outputs": [
    {
     "name": "stdout",
     "output_type": "stream",
     "text": [
      "1.0\n"
     ]
    }
   ],
   "source": [
    "RMSE = sqrt(mean_squared_error(y_true=y_test,y_pred=y_prediction))\n",
    "print(RMSE)"
   ]
  },
  {
   "cell_type": "code",
   "execution_count": 41,
   "metadata": {
    "scrolled": true
   },
   "outputs": [
    {
     "name": "stdout",
     "output_type": "stream",
     "text": [
      "('raisedhands', ' correlation : ', 0.0090503875014754549)\n",
      "('VisITedResources', ' correlation : ', 0.080128396096222826)\n",
      "('AnnouncementsView', ' correlation : ', -0.026801610890720483)\n",
      "('Discussion', ' correlation : ', -0.028018907936914927)\n",
      "('StudentAbsenceDays', ' correlation : ', 0.026111896463439969)\n",
      "('age', ' correlation : ', -0.046903596805159951)\n",
      "('traveltime', ' correlation : ', -0.1207952397927132)\n",
      "('studytime', ' correlation : ', 0.24565850030711275)\n",
      "('failures', ' correlation : ', -0.39475243730719323)\n",
      "('schoolsup', ' correlation : ', -0.16122007066619601)\n",
      "('Medu', ' correlation : ', 0.2246748500081106)\n",
      "('Fedu', ' correlation : ', 0.14177763471317625)\n",
      "('famsup', ' correlation : ', 0.097778075776275467)\n",
      "('paid', ' correlation : ', -0.077653089435029521)\n",
      "('activities', ' correlation : ', 0.13569257774253138)\n",
      "('nursery', ' correlation : ', 0.071473923826920541)\n",
      "('higher', ' correlation : ', 0.38573608519662611)\n",
      "('internet', ' correlation : ', 0.056723217189201661)\n",
      "('romantic', ' correlation : ', -0.078505284412537193)\n",
      "('freetime', ' correlation : ', -0.090748323748448198)\n",
      "('goout', ' correlation : ', -0.16041357701669381)\n",
      "('Dalc', ' correlation : ', -0.22686275078652077)\n",
      "('Walc', ' correlation : ', -0.21626284113603925)\n",
      "('health', ' correlation : ', -0.14281011843330771)\n",
      "('absences', ' correlation : ', -0.22298703963168598)\n",
      "('G1', ' correlation : ', 0.8142378932972697)\n",
      "('G2', ' correlation : ', 0.90470074394373434)\n"
     ]
    }
   ],
   "source": [
    "values = []\n",
    "\n",
    "for i in x.columns:\n",
    "    print(i,\" correlation : \",data['G3'].corr(data[i]))\n",
    "    values.append(data['G3'].corr(data[i]))\n",
    "    "
   ]
  },
  {
   "cell_type": "code",
   "execution_count": 42,
   "metadata": {},
   "outputs": [
    {
     "data": {
      "text/plain": [
       "[-0.39475243730719323,\n",
       " -0.22686275078652077,\n",
       " -0.22298703963168598,\n",
       " -0.21626284113603925,\n",
       " -0.16122007066619601,\n",
       " -0.16041357701669381,\n",
       " -0.14281011843330771,\n",
       " -0.1207952397927132,\n",
       " -0.090748323748448198,\n",
       " -0.078505284412537193,\n",
       " -0.077653089435029521,\n",
       " -0.046903596805159951,\n",
       " -0.028018907936914927,\n",
       " -0.026801610890720483,\n",
       " 0.0090503875014754549,\n",
       " 0.026111896463439969,\n",
       " 0.056723217189201661,\n",
       " 0.071473923826920541,\n",
       " 0.080128396096222826,\n",
       " 0.097778075776275467,\n",
       " 0.13569257774253138,\n",
       " 0.14177763471317625,\n",
       " 0.2246748500081106,\n",
       " 0.24565850030711275,\n",
       " 0.38573608519662611,\n",
       " 0.8142378932972697,\n",
       " 0.90470074394373434]"
      ]
     },
     "execution_count": 42,
     "metadata": {},
     "output_type": "execute_result"
    }
   ],
   "source": [
    "values.sort()\n",
    "values"
   ]
  },
  {
   "cell_type": "code",
   "execution_count": 43,
   "metadata": {},
   "outputs": [
    {
     "data": {
      "text/plain": [
       "NationalITy              venzuela\n",
       "Relation                      Mum\n",
       "raisedhands                   100\n",
       "VisITedResources               99\n",
       "AnnouncementsView              98\n",
       "Discussion                     99\n",
       "ParentAnsweringSurvey         Yes\n",
       "StudentAbsenceDays              1\n",
       "age                            22\n",
       "traveltime                      4\n",
       "studytime                       4\n",
       "failures                        3\n",
       "schoolsup                       1\n",
       "famsize                         0\n",
       "Medu                            4\n",
       "Fedu                            4\n",
       "famsup                          1\n",
       "paid                            1\n",
       "activities                      1\n",
       "nursery                         1\n",
       "higher                          1\n",
       "internet                        1\n",
       "romantic                        1\n",
       "freetime                        5\n",
       "goout                           5\n",
       "Dalc                            5\n",
       "Walc                            5\n",
       "health                          5\n",
       "absences                       32\n",
       "G1                             18\n",
       "G2                             19\n",
       "dtype: object"
      ]
     },
     "execution_count": 43,
     "metadata": {},
     "output_type": "execute_result"
    }
   ],
   "source": [
    "\n",
    "data[features].max()"
   ]
  },
  {
   "cell_type": "code",
   "execution_count": 44,
   "metadata": {
    "collapsed": true
   },
   "outputs": [],
   "source": [
    "positive_features = ['G2','G1','Medu','higher','studytime','age',]\n",
    "negative_features = ['failures','goout','romantic','traveltime']\n"
   ]
  },
  {
   "cell_type": "code",
   "execution_count": 47,
   "metadata": {},
   "outputs": [
    {
     "name": "stdout",
     "output_type": "stream",
     "text": [
      "Welcome!!! Please Enter your name: \"kp\"\n",
      "Please mention the no. of hours you study : 6\n",
      "Mention your daily travel time : 3\n",
      "What is your age : 15\n",
      "How much of time do you spend with your friends : 4\n",
      "Are you presently in a relationship'(yes or no)'\"no\"\n",
      "Do you wish to pursue higher studies '(yes or no)': \"no\"\n",
      "On a scale of 1 to 5 what is your family education '(1 being primary to 5 being college degree)' :5\n",
      "Mention your score in first test : 13\n",
      "Mention your score in second test : 12\n",
      "how many test have you failed '(1 ,2 or 3)' : 0\n"
     ]
    },
    {
     "data": {
      "text/plain": [
       "['kp', 6, 3, 15, 4, 'no', 'no', 5, 13, 12, 0]"
      ]
     },
     "execution_count": 47,
     "metadata": {},
     "output_type": "execute_result"
    }
   ],
   "source": [
    "#User_data input\n",
    "user_data=[]\n",
    "user_name = input(\"Welcome!!! Please Enter your name: \")\n",
    "user_data.append(user_name)\n",
    "data1 = input(\"Please mention the no. of hours you study : \")\n",
    "data2 = input(\"Mention your daily travel time : \")\n",
    "data3 = input(\"What is your age : \")\n",
    "data4 = input(\"How much of time do you spend with your friends : \")\n",
    "data5 = input(\"Are you presently in a relationship'(yes or no)'\")\n",
    "data6 = input(\"Do you wish to pursue higher studies '(yes or no)': \")\n",
    "data7 = input(\"On a scale of 1 to 5 what is your family education '(1 being primary to 5 being college degree)' :\")\n",
    "data8 = input(\"Mention your score in first test : \")\n",
    "data9 = input(\"Mention your score in second test : \")\n",
    "data10 = input(\"how many test have you failed '(1 ,2 or 3)' : \")\n",
    "\n",
    "for i in range(1,11):\n",
    "    data = \"data\"+str(i)\n",
    "    user_data.append(globals()[data])\n",
    "user_data    "
   ]
  },
  {
   "cell_type": "code",
   "execution_count": 62,
   "metadata": {},
   "outputs": [
    {
     "name": "stdout",
     "output_type": "stream",
     "text": [
      "36.0\n"
     ]
    },
    {
     "data": {
      "text/plain": [
       "{'AnnouncementsView': 30,\n",
       " 'Dalc': 1,\n",
       " 'Discussion': 36,\n",
       " 'Fedu': 5,\n",
       " 'G1': 13,\n",
       " 'G2': 12,\n",
       " 'Medu': 5,\n",
       " 'StudentAbsenceDays': 1,\n",
       " 'VisITedResources': 54,\n",
       " 'Walc': 2,\n",
       " 'absences': 2,\n",
       " 'activities': 1,\n",
       " 'age': 15,\n",
       " 'failures': 0,\n",
       " 'famsup': 1,\n",
       " 'freetime': 3,\n",
       " 'goout': 4,\n",
       " 'health': 4,\n",
       " 'higher': 0,\n",
       " 'internet': 1,\n",
       " 'nursery': 1,\n",
       " 'paid': 0,\n",
       " 'raisedhands': 36,\n",
       " 'romantic': 0,\n",
       " 'schoolsup': 0,\n",
       " 'studytime': 6,\n",
       " 'traveltime': 3}"
      ]
     },
     "execution_count": 62,
     "metadata": {},
     "output_type": "execute_result"
    }
   ],
   "source": [
    "print(x_train[\"raisedhands\"].median())\n",
    "user = {'raisedhands':int(x_train[\"raisedhands\"].median()), 'VisITedResources':int(x_train[\"VisITedResources\"].median()), 'AnnouncementsView':int(x_train[\"AnnouncementsView\"].median()),\n",
    "       'Discussion':int(x_train[\"Discussion\"].median()), 'StudentAbsenceDays':int(x_train[\"StudentAbsenceDays\"].median()), 'age':user_data[3], 'traveltime':user_data[2],\n",
    "       'studytime':user_data[1], 'failures':user_data[10], 'schoolsup':int(x_train[\"schoolsup\"].median()), 'Medu':user_data[7], 'Fedu':user_data[7], 'famsup':int(x_train[\"famsup\"].median()),\n",
    "       'paid':int(x_train[\"paid\"].median()), 'activities':int(x_train[\"activities\"].median()), 'nursery':int(x_train[\"nursery\"].median()), 'higher':0, 'internet':int(x_train[\"internet\"].median()), 'romantic':int(x_train[\"romantic\"].median()),\n",
    "       'freetime':int(x_train[\"freetime\"].median()), 'goout':user_data[4], 'Dalc':int(x_train[\"Dalc\"].median()), 'Walc':int(x_train[\"Walc\"].median()), 'health':int(x_train[\"health\"].median()), 'absences':int(x_train[\"absences\"].median()), 'G1':user_data[8],\n",
    "       'G2':user_data[9]}\n",
    "user"
   ]
  },
  {
   "cell_type": "code",
   "execution_count": 73,
   "metadata": {},
   "outputs": [
    {
     "name": "stdout",
     "output_type": "stream",
     "text": [
      "AnnouncementsView     30\n",
      "Dalc                   1\n",
      "Discussion            36\n",
      "Fedu                   5\n",
      "G1                    13\n",
      "G2                    12\n",
      "Medu                   5\n",
      "StudentAbsenceDays     1\n",
      "VisITedResources      54\n",
      "Walc                   2\n",
      "absences               2\n",
      "activities             1\n",
      "age                   15\n",
      "failures               0\n",
      "famsup                 1\n",
      "freetime               3\n",
      "goout                  4\n",
      "health                 4\n",
      "higher                 0\n",
      "internet               1\n",
      "nursery                1\n",
      "paid                   0\n",
      "raisedhands           36\n",
      "romantic               0\n",
      "schoolsup              0\n",
      "studytime              6\n",
      "traveltime             3\n",
      "dtype: int64\n"
     ]
    },
    {
     "name": "stderr",
     "output_type": "stream",
     "text": [
      "/usr/lib/python2.7/dist-packages/sklearn/utils/validation.py:395: DeprecationWarning: Passing 1d arrays as data is deprecated in 0.17 and will raise ValueError in 0.19. Reshape your data either using X.reshape(-1, 1) if your data has a single feature or X.reshape(1, -1) if it contains a single sample.\n",
      "  DeprecationWarning)\n"
     ]
    },
    {
     "data": {
      "text/plain": [
       "array([ 8.])"
      ]
     },
     "execution_count": 73,
     "metadata": {},
     "output_type": "execute_result"
    }
   ],
   "source": [
    "user = pd.Series(user)\n",
    "print(user)\n",
    "regressor.predict(user)"
   ]
  },
  {
   "cell_type": "code",
   "execution_count": 86,
   "metadata": {},
   "outputs": [
    {
     "name": "stdout",
     "output_type": "stream",
     "text": [
      "Enter your target score : 15\n",
      "     goout  studytime\n",
      "59       3          2\n",
      "212      4          1\n",
      "60       4          2\n",
      "394      3          2\n",
      "375      3          3\n",
      "339      2          3\n",
      "135      1          1\n",
      "330      1          2\n",
      "216      4          2\n",
      "309      5          2\n",
      "293      3          3\n",
      "190      4          2\n",
      "107      3          3\n",
      "10       3          2\n",
      "345      4          2\n",
      "20       1          2\n",
      "276      3          1\n",
      "306      5          2\n",
      "56       2          2\n",
      "296      4          2\n",
      "336      2          2\n",
      "250      2          2\n",
      "358      4          1\n",
      "221      2          2\n",
      "355      1          2\n",
      "22       1          2\n",
      "229      4          2\n",
      "101      3          3\n",
      "307      4          2\n",
      "17       2          2\n",
      "..     ...        ...\n",
      "209      2          2\n",
      "312      5          4\n",
      "201      3          2\n",
      "334      4          3\n",
      "69       2          4\n",
      "393      3          4\n",
      "340      3          1\n",
      "267      5          2\n",
      "119      3          1\n",
      "57       2          2\n",
      "321      3          3\n",
      "42       3          2\n",
      "363      4          1\n",
      "348      3          3\n",
      "342      5          2\n",
      "128      5          1\n",
      "202      3          2\n",
      "31       1          2\n",
      "32       2          2\n",
      "367      3          2\n",
      "147      2          1\n",
      "197      3          2\n",
      "243      3          3\n",
      "115      4          2\n",
      "265      3          3\n",
      "333      3          3\n",
      "381      3          3\n",
      "87       3          3\n",
      "292      4          3\n",
      "117      2          1\n",
      "\n",
      "[101 rows x 2 columns]\n"
     ]
    }
   ],
   "source": [
    "score = input(\"Enter your target score : \")\n",
    "print(x_train[np.logical_and(y_train>=score-1,y_train<=score+1)][[\"goout\",\"studytime\"]])"
   ]
  }
 ],
 "metadata": {
  "kernelspec": {
   "display_name": "Python 2",
   "language": "python",
   "name": "python2"
  },
  "language_info": {
   "codemirror_mode": {
    "name": "ipython",
    "version": 2
   },
   "file_extension": ".py",
   "mimetype": "text/x-python",
   "name": "python",
   "nbconvert_exporter": "python",
   "pygments_lexer": "ipython2",
   "version": "2.7.13"
  }
 },
 "nbformat": 4,
 "nbformat_minor": 2
}
